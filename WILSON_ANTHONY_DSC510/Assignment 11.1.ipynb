{
 "cells": [
  {
   "cell_type": "markdown",
   "metadata": {},
   "source": [
    "## Assignment 11.1\n",
    "Date: 5/26/2019\n",
    "Course: DSC 510 - Introduction to Programming<br>\n",
    "Desc: Create shopping cart for users to add items by price  <br>\n",
    "Usage: This program has a CashRegister class where items are stored in the class. User goes through a loop entering items by  putting a price, or entring a 'q' to end the loop. When the loop ends it will print the number of items in the cart as well as the total. "
   ]
  },
  {
   "cell_type": "markdown",
   "metadata": {},
   "source": [
    "*Class CashRegister: <p> &emsp;Used to store items and price in the cart.*"
   ]
  },
  {
   "cell_type": "code",
   "execution_count": 1,
   "metadata": {},
   "outputs": [],
   "source": [
    "#include locale to set the currency\n",
    "import locale\n",
    "locale.setlocale(locale.LC_ALL, '')\n",
    "\n",
    "class CashRegister:\n",
    "    #constructor \n",
    "    def __init__(self):\n",
    "        self.cart = []\n",
    "        self.items = 0\n",
    "    #adds item to the shoping cart with price\n",
    "    def addItem(self, price):\n",
    "        #make sure the price is a number\n",
    "        try:\n",
    "            price = float(price)\n",
    "        except:\n",
    "            #if not float flag error and skip item\n",
    "            print('Error: Bad float variable entered for price, item not added.')\n",
    "            return\n",
    "        self.cart.append(price)\n",
    "        self.items += 1\n",
    "    #returns total in dollar amount\n",
    "    def getTotal(self):\n",
    "        sumTotal = 0.00\n",
    "        for i in self.cart:\n",
    "            sumTotal += i\n",
    "        return '{}'.format(locale.currency(sumTotal, grouping = True))\n",
    "    #return the number of items in the cart\n",
    "    def getCount(self):\n",
    "        return '{}'.format(self.items)\n",
    "    #representation of the class \n",
    "    def __repr__(self):\n",
    "        return 'CashRegister(Items:{}, Total{})'.format(self.getCount(), self.getTotal())\n",
    "    #prints the total number of items and cost of the cart\n",
    "    def __str__(self):\n",
    "        return 'Your Cart: \\n\\tItems: {}\\n\\tTotal: {}'.format(self.getCount(), self.getTotal())\n",
    "    \n",
    "    "
   ]
  },
  {
   "cell_type": "markdown",
   "metadata": {},
   "source": [
    "*getResponse:  <p> &emsp;This is where the user interacts with the program, they can enter the price of an item or quit by enter q.*</p>"
   ]
  },
  {
   "cell_type": "code",
   "execution_count": 2,
   "metadata": {},
   "outputs": [],
   "source": [
    "def getResponse():\n",
    "    #prompts for the user\n",
    "    prompt = 'Enter the price of the item you want to purchase in dollar and cents. \\n(If you would like to quit, enter \\'q\\')'\n",
    "    errorPrompt = 'Error: Entry not recognized, please enter the price in dollar and cents (EX: 2.99)\\n(If you would like to quit, enter \\'q\\'): '\n",
    "    assertPrompt = 'Price must be greater than 0.00'\n",
    "    #print intial prompt for price\n",
    "    print(prompt)\n",
    "    #loop through until user provides a valid response\n",
    "    while(True):\n",
    "        #input must be a number or a 'q' or 'Q'\n",
    "        try:\n",
    "            response = input()\n",
    "            #if q then return -1 to quit program\n",
    "            if response.lower() == 'q':\n",
    "                return -1\n",
    "            else:\n",
    "                #convert number to a float\n",
    "                response = float(response)\n",
    "                #make sure number is greater than 0 \n",
    "                assert response > 0.00\n",
    "                return response\n",
    "        #if number less than or equal to 0 than it will notify the user\n",
    "        except AssertionError:\n",
    "            print(assertPrompt)\n",
    "        #when entry is not a number or q than it will notify the user\n",
    "        except:\n",
    "            print(errorPrompt)"
   ]
  },
  {
   "cell_type": "code",
   "execution_count": 3,
   "metadata": {},
   "outputs": [
    {
     "name": "stdout",
     "output_type": "stream",
     "text": [
      "Welcome please enter the price of the item that you want. \n",
      "All items should be entered in dollars and cents.\n",
      "\n",
      "Enter the price of the item you want to purchase in dollar and cents. \n",
      "(If you would like to quit, enter 'q')\n",
      "3.4\n",
      "Enter the price of the item you want to purchase in dollar and cents. \n",
      "(If you would like to quit, enter 'q')\n",
      ".32\n",
      "Enter the price of the item you want to purchase in dollar and cents. \n",
      "(If you would like to quit, enter 'q')\n",
      "4.32\n",
      "Enter the price of the item you want to purchase in dollar and cents. \n",
      "(If you would like to quit, enter 'q')\n",
      "q\n",
      "Your Cart: \n",
      "\tItems: 3\n",
      "\tTotal: $8.04\n"
     ]
    }
   ],
   "source": [
    "#main function\n",
    "def main():\n",
    "    #initiate CashRegister\n",
    "    cashRegister = CashRegister()\n",
    "    #print welcome message\n",
    "    message = 'Welcome please enter the price of the item that you want. \\nAll items should be entered in dollars and cents.\\n'\n",
    "    print(message)\n",
    "    #used to keep loop going until user chooses to quit\n",
    "    isContinue = True\n",
    "    while (isContinue): \n",
    "        #call getRepsonse to get price or q\n",
    "        price = getResponse()\n",
    "        #if price greater than zero enter it\n",
    "        if price > 0.00:\n",
    "            cashRegister.addItem(price)\n",
    "        #else quit the program\n",
    "        else:\n",
    "            isContinue = False\n",
    "     #print totals   \n",
    "    print(cashRegister)\n",
    "        \n",
    "if __name__ == \"__main__\":\n",
    "    main()"
   ]
  },
  {
   "cell_type": "code",
   "execution_count": null,
   "metadata": {},
   "outputs": [],
   "source": [
    "\n"
   ]
  }
 ],
 "metadata": {
  "kernelspec": {
   "display_name": "Python 3",
   "language": "python",
   "name": "python3"
  },
  "language_info": {
   "codemirror_mode": {
    "name": "ipython",
    "version": 3
   },
   "file_extension": ".py",
   "mimetype": "text/x-python",
   "name": "python",
   "nbconvert_exporter": "python",
   "pygments_lexer": "ipython3",
   "version": "3.7.1"
  }
 },
 "nbformat": 4,
 "nbformat_minor": 2
}
