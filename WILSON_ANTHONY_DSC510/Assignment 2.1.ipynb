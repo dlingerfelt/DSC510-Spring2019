{
 "cells": [
  {
   "cell_type": "code",
   "execution_count": null,
   "metadata": {},
   "outputs": [],
   "source": [
    "# File: Assignment 2.1\n",
    "# Name: Anthony Wilson \n",
    "# Date: 3/23/2019\n",
    "# Course: DSC 510 - Introduction to Programming\n",
    "# Desc: calculates cost of optic cable, creates a bill of sale \n",
    "# Usage: Gather business name from customer, total feet installed and then calculates the cost of the optic cable and prints reciept. \n",
    "\n",
    "# Prompt user for Business name.\n",
    "promptName = \"Enter Business Name: \"\n",
    "businessName = input(promptName)\n",
    "# prompt user for fiber feet to be installed\n",
    "promptLengthInFeet = \"Enter total number of feet to be installed: \\n\"\n",
    "lengthInFeet = int(input(promptLengthInFeet)) # convert input to integer\n",
    "costPerFoot = 0.87 # cost per foot\n",
    "totalCost = costPerFoot * lengthInFeet # calculate  cost to install fiber cable\n",
    "# create reciept for user\n",
    "print(\"\\n\\n\") # serparte input from user and reciept\n",
    "print(\"*\" * 54) # start of reciept\n",
    "print(\"Business Name: \" + businessName) #display business name\n",
    "print(\"\\nFiber Cable:\" + str(lengthInFeet).rjust(38) + \" ft\") # display total cable to be installed\n",
    "print(\"Calculated Cost:\" + (\"$ \"+ str(totalCost)).rjust(37)) # calculated cost to install\n",
    "print((\"-\" * int(len(str(totalCost)) + 2)).rjust(53)) # create line to seperate calculated cost vs total cost\n",
    "print(\"Total Cost:\" + (\"$ \"+ str(totalCost)).rjust(42)) # total cost\n",
    "print(\"*\" * 54)  # End of reciept"
   ]
  }
 ],
 "metadata": {
  "kernelspec": {
   "display_name": "Python 3",
   "language": "python",
   "name": "python3"
  },
  "language_info": {
   "codemirror_mode": {
    "name": "ipython",
    "version": 3
   },
   "file_extension": ".py",
   "mimetype": "text/x-python",
   "name": "python",
   "nbconvert_exporter": "python",
   "pygments_lexer": "ipython3",
   "version": "3.7.2"
  }
 },
 "nbformat": 4,
 "nbformat_minor": 2
}
