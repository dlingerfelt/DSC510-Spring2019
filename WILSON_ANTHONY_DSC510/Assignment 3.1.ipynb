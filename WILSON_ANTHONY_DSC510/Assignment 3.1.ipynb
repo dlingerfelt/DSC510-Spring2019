    {
 "cells": [
  {
   "cell_type": "code",
   "execution_count": null,
   "metadata": {
    "collapsed": true
   },
   "outputs": [],
   "source": [
    "# Date: 3/30/2019\n",
    "# Course: DSC 510 - Introduction to Programming\n",
    "# Desc: calculates cost of optic cable, creates a bill of sale \n",
    "# Usage: Gather business name from customer, total feet installed and then calculates the cost of the optic cable and prints reciept. \n",
    "\n",
    "\n",
    "# Prompt user for Business name.\n",
    "promptName = \"Welcome \\nEnter Business Name: \"\n",
    "businessName = input(promptName)\n",
    "# prompt user for fiber feet to be installed\n",
    "promptLengthInFeet = \"Enter total number of feet to be installed: \\n\"\n",
    "lengthInFeet = int(input(promptLengthInFeet)) # convert input to integer\n",
    "\n",
    "# cost per foot\n",
    "if lengthInFeet > 500:\n",
    "    costPerFoot = 0.50\n",
    "elif lengthInFeet >  250:\n",
    "    costPerFoot = 0.70\n",
    "elif lengthInFeet >  100:\n",
    "    costPerFoot = 0.80\n",
    "elif lengthInFeet >  0:\n",
    "    costPerFoot = 0.87\n",
    "    \n",
    "totalCost = costPerFoot * lengthInFeet # calculate  cost to install fiber cable\n",
    "# create reciept for user\n",
    "print(\"\\n\\n\") # serparte input from user and reciept\n",
    "print(\"*\" * 54) # start of reciept\n",
    "print(\"Business Name: \" + businessName) #display business name\n",
    "print(\"\\nFiber Cable:\" + str(lengthInFeet).rjust(38) + \" ft\") # display total cable to be installed\n",
    "print(\"Calculated Cost:\" + (\"$ \"+ str(totalCost)).rjust(37)) # calculated cost to install\n",
    "print((\"-\" * int(len(str(totalCost)) + 2)).rjust(53)) # create line to seperate calculated cost vs total cost\n",
    "print(\"Total Cost:\" + (\"$ \"+ str(totalCost)).rjust(42)) # total cost\n",
    "print(\"*\" * 54)  # End of reciept"
   ]
  }
 ],
 "metadata": {
  "kernelspec": {
   "display_name": "Python 2",
   "language": "python",
   "name": "python2"
  },
  "language_info": {
   "codemirror_mode": {
    "name": "ipython",
    "version": 2
   },
   "file_extension": ".py",
   "mimetype": "text/x-python",
   "name": "python",
   "nbconvert_exporter": "python",
   "pygments_lexer": "ipython2",
   "version": "2.7.6"
  }
 },
 "nbformat": 4,
 "nbformat_minor": 0
}
