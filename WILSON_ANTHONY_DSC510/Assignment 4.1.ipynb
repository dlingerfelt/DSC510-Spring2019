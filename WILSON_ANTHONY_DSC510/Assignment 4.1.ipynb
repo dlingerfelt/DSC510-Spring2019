{
 "cells": [
  {
   "cell_type": "code",
   "execution_count": 3,
   "metadata": {},
   "outputs": [
    {
     "name": "stdout",
     "output_type": "stream",
     "text": [
      "Welcome \n",
      "Enter Business Name: Red Hill\n",
      "Enter total number of feet to be installed: \n",
      "550\n",
      "\n",
      "\n",
      "\n",
      "******************************************************\n",
      "Business Name: Red Hill\n",
      "\n",
      "Fiber Cable:                                   550 ft\n",
      "Calculated Cost:                              $ 275.0\n",
      "                                              -------\n",
      "Total Cost:                                   $ 275.0\n",
      "******************************************************\n"
     ]
    }
   ],
   "source": [
    "# Date: 4/7/2019\n",
    "# Course: DSC 510 - Introduction to Programming\n",
    "# Desc: calculates cost of optic cable, creates a bill of sale \n",
    "# Usage: Gather business name from customer, total feet installed and then calculates the cost of the optic cable and prints reciept. \n",
    "\n",
    "#this function takes the length in feet and retruns the cost depending upon the total fiber ordered\n",
    "def calculateCostPerFoor(length):\n",
    "    # when length is greater than 500 return 0.50 cents per foot\n",
    "    if length > 500:\n",
    "        cost = 0.50\n",
    "    # when length is gretar than 250 and less than or eqaul to 500 return 0.70 cents per foot    \n",
    "    elif length >  250:\n",
    "        cost = 0.70\n",
    "    # when length is gretar than 100 and less than or eqaul to 250 return 0.80 cents per foot   \n",
    "    elif length >  100:\n",
    "        cost = 0.80\n",
    "    # when length is gretar than 0 and less than or eqaul to 100 return 0.87 cents per foot\n",
    "    elif length >  0:\n",
    "        cost = 0.87\n",
    "    #if anything else is less than 0 then return 0\n",
    "    else:\n",
    "        cost = 0.00\n",
    "    return cost\n",
    "\n",
    "# this function takes the total length and the cost to return the total cost for the fiber\n",
    "def calculateTotalCost(length, cost):\n",
    "    return length * cost\n",
    "    \n",
    "\n",
    "# Prompt user for Business name.\n",
    "promptName = \"Welcome \\nEnter Business Name: \"\n",
    "businessName = input(promptName)\n",
    "# prompt user for fiber feet to be installed\n",
    "promptLengthInFeet = \"Enter total number of feet to be installed: \\n\"\n",
    "lengthInFeet = int(input(promptLengthInFeet)) # convert input to integer\n",
    "\n",
    "# determine cost per foot\n",
    "costPerFoot = calculateCostPerFoor(lengthInFeet)\n",
    "# calculate the total cost\n",
    "totalCost = calculateTotalCost(lengthInFeet, costPerFoot) \n",
    "\n",
    "# create reciept for user\n",
    "print(\"\\n\\n\") # serparte input from user and reciept\n",
    "print(\"*\" * 54) # start of reciept\n",
    "print(\"Business Name: \" + businessName) #display business name\n",
    "print(\"\\nFiber Cable:\" + str(lengthInFeet).rjust(38) + \" ft\") # display total cable to be installed\n",
    "print(\"Calculated Cost:\" + (\"$ \"+ str(totalCost)).rjust(37)) # calculated cost to install\n",
    "print((\"-\" * int(len(str(totalCost)) + 2)).rjust(53)) # create line to seperate calculated cost vs total cost\n",
    "print(\"Total Cost:\" + (\"$ \"+ str(totalCost)).rjust(42)) # total cost\n",
    "print(\"*\" * 54)  # End of reciept"
   ]
  },
  {
   "cell_type": "code",
   "execution_count": null,
   "metadata": {},
   "outputs": [],
   "source": []
  }
 ],
 "metadata": {
  "kernelspec": {
   "display_name": "Python 3",
   "language": "python",
   "name": "python3"
  },
  "language_info": {
   "codemirror_mode": {
    "name": "ipython",
    "version": 3
   },
   "file_extension": ".py",
   "mimetype": "text/x-python",
   "name": "python",
   "nbconvert_exporter": "python",
   "pygments_lexer": "ipython3",
   "version": "3.7.1"
  }
 },
 "nbformat": 4,
 "nbformat_minor": 2
}
